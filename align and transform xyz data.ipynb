{
 "cells": [
  {
   "cell_type": "code",
   "execution_count": null,
   "metadata": {
    "collapsed": true
   },
   "outputs": [],
   "source": [
    "import numpy as np\n",
    "import matplotlib.pyplot as plt"
   ]
  },
  {
   "cell_type": "code",
   "execution_count": null,
   "metadata": {
    "collapsed": false
   },
   "outputs": [],
   "source": [
    "# These are perfect crystal coordinates for the nodes\n",
    "\n",
    "Q = np.array([\n",
    "    [  9.985,   17.32050808,  16.58],\n",
    "    [ -0.015,   34.6410162 ,  16.58],\n",
    "    [ 29.970,   17.32050808,  16.58],\n",
    "    [  9.985,   17.32050808,  33.16],\n",
    "    [ -0.015,   34.6410162 ,  33.16],\n",
    "    [ 29.970,   17.32050808,  33.16],\n",
    "])\n"
   ]
  },
  {
   "cell_type": "code",
   "execution_count": null,
   "metadata": {
    "collapsed": false
   },
   "outputs": [],
   "source": [
    "def get_transmat(P, Q):\n",
    "    \n",
    "    \n",
    "    def remove_com(P):\n",
    "        old_com = np.mean(P, axis=0)\n",
    "        newP = P - old_com\n",
    "        return newP, old_com\n",
    "\n",
    "\n",
    "    # get rotation vector from singular value decomposition (SVD)\n",
    "    def kabsch(P0, Q0):\n",
    "        A = np.dot(P0.transpose(), Q0)\n",
    "        u,s,v = np.linalg.svd(A)  # a = U S V.H ... v==V.H, u==U\n",
    "        \n",
    "        U = u\n",
    "        VT = v\n",
    "        V = VT.transpose()\n",
    "        UT = U.transpose()\n",
    "        \n",
    "        d = np.sign(np.linalg.det(np.dot(V, UT)))\n",
    "        dmat = np.diag((1, 1, d))\n",
    "        rotmat = np.dot(V, np.dot(dmat, UT))\n",
    "        return rotmat\n",
    "\n",
    "    \n",
    "    # remove COM\n",
    "    Q0, Qcom = remove_com(Q)\n",
    "    P0, Pcom = remove_com(P)\n",
    "\n",
    "    # get trans vector to go from P to Q\n",
    "    trans = Qcom-Pcom\n",
    "    rotmat = kabsch(P0, Q0)\n",
    "\n",
    "    # convert to 4x4 matrix\n",
    "    transmat = np.insert(rotmat, 3, trans, axis=1)\n",
    "    transmat = np.insert(transmat, 3, [0,0,0,1], axis=0)\n",
    "    \n",
    "    return transmat\n"
   ]
  },
  {
   "cell_type": "code",
   "execution_count": null,
   "metadata": {
    "collapsed": false,
    "scrolled": false
   },
   "outputs": [],
   "source": [
    "def read_dumpfile(dumpfile):\n",
    "    with open(dumpfile, 'r') as fin:\n",
    "        data = {}\n",
    "        for line in fin:\n",
    "            if line[0]!='#':\n",
    "                line_chunks=line.split()\n",
    "                if len(line_chunks)==2:\n",
    "                    timestep, N = map(int, line_chunks)\n",
    "                    data[timestep] = []\n",
    "                if len(line_chunks)==4:\n",
    "                    serial, x,y,z = map(float, line_chunks)\n",
    "                    ind = int(serial) - 1\n",
    "                    data[timestep].append([x,y,z])\n",
    "    return data\n",
    "\n",
    "\n",
    "def rotate(xyz, transmat):\n",
    "    xyz1 = np.append(xyz, np.ones((len(xyz),1)), axis=1).transpose()\n",
    "    newxyz = np.dot(transmat, xyz1).transpose()\n",
    "    return newxyz[:,:-1]\n",
    "\n",
    "\n",
    "node_dumpfile = '/home/vargaslo/ws/_tmp_check_system/sarin/40/MDSim_298K/4_my_nodes.dump'\n",
    "nodes = read_dumpfile(node_dumpfile)\n",
    "mlc_dumpfile = '/home/vargaslo/ws/_tmp_check_system/sarin/40/MDSim_298K/4_my.dump'\n",
    "mlc = read_dumpfile(mlc_dumpfile)\n",
    "\n",
    "\n",
    "nodes_transmat = {}\n",
    "for k,v in (nodes.iteritems()):\n",
    "    P = np.array(v)\n",
    "    transmat = get_transmat(P, Q)\n",
    "    nodes_transmat[k] = transmat\n",
    "    \n",
    "\n",
    "dump = {}\n",
    "for k,v in (mlc.iteritems()):\n",
    "    xyz = np.array(v)\n",
    "    transmat = nodes_transmat[k]\n",
    "    xyz_ = rotate(xyz, transmat)\n",
    "    dump[k] = xyz_\n",
    "    \n"
   ]
  },
  {
   "cell_type": "code",
   "execution_count": null,
   "metadata": {
    "collapsed": false
   },
   "outputs": [],
   "source": [
    "def write_new_xyz(outfile):\n",
    "    with open(outfile, 'w') as fout:\n",
    "        for k in sorted(dump.iterkeys()):\n",
    "            v = dump[k]\n",
    "            N = len(v)\n",
    "            fout.write('{} {}\\n'.format(k, N))\n",
    "            for ind, xyz in enumerate(v):\n",
    "                serial = ind+1\n",
    "                x,y,z = xyz\n",
    "                fout.write('{} {:.6f} {:.6f} {:.6f}\\n'.format(serial, x, y ,z))\n",
    "    return\n",
    "\n",
    "write_new_xyz(mlc_dumpfile+'.mod')\n"
   ]
  }
 ],
 "metadata": {
  "kernelspec": {
   "display_name": "Python 2",
   "language": "python",
   "name": "python2"
  },
  "language_info": {
   "codemirror_mode": {
    "name": "ipython",
    "version": 2
   },
   "file_extension": ".py",
   "mimetype": "text/x-python",
   "name": "python",
   "nbconvert_exporter": "python",
   "pygments_lexer": "ipython2",
   "version": "2.7.11"
  }
 },
 "nbformat": 4,
 "nbformat_minor": 0
}
